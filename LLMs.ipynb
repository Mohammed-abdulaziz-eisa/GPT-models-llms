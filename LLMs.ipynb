{
 "cells": [
  {
   "cell_type": "markdown",
   "metadata": {},
   "source": [
    "# Running an LLM on Local Machine (M1 Pro Mac with 16GB RAM & 1TB SSD)"
   ]
  },
  {
   "cell_type": "markdown",
   "metadata": {},
   "source": [
    "## Download LLM model from Hugging Face\n",
    "- [🤗 Hugging Face - fastchat-t5-3b-v1.0](https://huggingface.co/lmsys/fastchat-t5-3b-v1.0/tree/main\n",
    ")"
   ]
  },
  {
   "cell_type": "code",
   "execution_count": 1,
   "metadata": {},
   "outputs": [
    {
     "name": "stdout",
     "output_type": "stream",
     "text": [
      "Requirement already satisfied: huggingface-hub in /Users/0xnrous/opt/anaconda3/lib/python3.9/site-packages (0.26.5)\n",
      "Requirement already satisfied: langchain in /Users/0xnrous/opt/anaconda3/lib/python3.9/site-packages (0.0.154)\n",
      "Requirement already satisfied: transformers in /Users/0xnrous/opt/anaconda3/lib/python3.9/site-packages (4.47.0)\n",
      "Requirement already satisfied: PyYAML>=5.4.1 in /Users/0xnrous/opt/anaconda3/lib/python3.9/site-packages (from langchain[llms]) (6.0.1)\n",
      "Requirement already satisfied: SQLAlchemy<3,>1.4 in /Users/0xnrous/opt/anaconda3/lib/python3.9/site-packages (from langchain[llms]) (2.0.36)\n",
      "Requirement already satisfied: aiohttp<4.0.0,>=3.8.3 in /Users/0xnrous/opt/anaconda3/lib/python3.9/site-packages (from langchain[llms]) (3.8.4)\n",
      "Requirement already satisfied: async-timeout<5.0.0,>=4.0.0 in /Users/0xnrous/opt/anaconda3/lib/python3.9/site-packages (from langchain[llms]) (4.0.3)\n",
      "Requirement already satisfied: dataclasses-json<0.6.0,>=0.5.7 in /Users/0xnrous/opt/anaconda3/lib/python3.9/site-packages (from langchain[llms]) (0.5.9)\n",
      "Requirement already satisfied: numexpr<3.0.0,>=2.8.4 in /Users/0xnrous/opt/anaconda3/lib/python3.9/site-packages (from langchain[llms]) (2.8.4)\n",
      "Requirement already satisfied: numpy<2,>=1 in /Users/0xnrous/opt/anaconda3/lib/python3.9/site-packages (from langchain[llms]) (1.26.4)\n",
      "Requirement already satisfied: openapi-schema-pydantic<2.0,>=1.2 in /Users/0xnrous/opt/anaconda3/lib/python3.9/site-packages (from langchain[llms]) (1.2.4)\n",
      "Requirement already satisfied: pydantic<2,>=1 in /Users/0xnrous/opt/anaconda3/lib/python3.9/site-packages (from langchain[llms]) (1.10.19)\n",
      "Requirement already satisfied: requests<3,>=2 in /Users/0xnrous/opt/anaconda3/lib/python3.9/site-packages (from langchain[llms]) (2.32.3)\n",
      "Requirement already satisfied: tenacity<9.0.0,>=8.1.0 in /Users/0xnrous/opt/anaconda3/lib/python3.9/site-packages (from langchain[llms]) (8.2.2)\n",
      "Requirement already satisfied: tqdm>=4.48.0 in /Users/0xnrous/opt/anaconda3/lib/python3.9/site-packages (from langchain[llms]) (4.65.0)\n",
      "Requirement already satisfied: anthropic<0.3.0,>=0.2.6 in /Users/0xnrous/opt/anaconda3/lib/python3.9/site-packages (from langchain[llms]) (0.2.10)\n",
      "Requirement already satisfied: cohere<4,>=3 in /Users/0xnrous/opt/anaconda3/lib/python3.9/site-packages (from langchain[llms]) (3.10.0)\n",
      "Requirement already satisfied: manifest-ml<0.0.2,>=0.0.1 in /Users/0xnrous/opt/anaconda3/lib/python3.9/site-packages (from langchain[llms]) (0.0.1)\n",
      "Requirement already satisfied: nlpcloud<2,>=1 in /Users/0xnrous/opt/anaconda3/lib/python3.9/site-packages (from langchain[llms]) (1.1.47)\n",
      "Requirement already satisfied: openai<1,>=0 in /Users/0xnrous/opt/anaconda3/lib/python3.9/site-packages (from langchain[llms]) (0.28.1)\n",
      "Requirement already satisfied: torch<3,>=1 in /Users/0xnrous/opt/anaconda3/lib/python3.9/site-packages (from langchain[llms]) (2.0.0)\n",
      "Requirement already satisfied: filelock in /Users/0xnrous/opt/anaconda3/lib/python3.9/site-packages (from huggingface-hub) (3.14.0)\n",
      "Requirement already satisfied: fsspec>=2023.5.0 in /Users/0xnrous/opt/anaconda3/lib/python3.9/site-packages (from huggingface-hub) (2024.10.0)\n",
      "Requirement already satisfied: packaging>=20.9 in /Users/0xnrous/opt/anaconda3/lib/python3.9/site-packages (from huggingface-hub) (23.2)\n",
      "Requirement already satisfied: typing-extensions>=3.7.4.3 in /Users/0xnrous/opt/anaconda3/lib/python3.9/site-packages (from huggingface-hub) (4.12.2)\n",
      "Requirement already satisfied: regex!=2019.12.17 in /Users/0xnrous/opt/anaconda3/lib/python3.9/site-packages (from transformers) (2024.11.6)\n",
      "Requirement already satisfied: tokenizers<0.22,>=0.21 in /Users/0xnrous/opt/anaconda3/lib/python3.9/site-packages (from transformers) (0.21.0)\n",
      "Requirement already satisfied: safetensors>=0.4.1 in /Users/0xnrous/opt/anaconda3/lib/python3.9/site-packages (from transformers) (0.4.5)\n",
      "Requirement already satisfied: attrs>=17.3.0 in /Users/0xnrous/opt/anaconda3/lib/python3.9/site-packages (from aiohttp<4.0.0,>=3.8.3->langchain[llms]) (23.2.0)\n",
      "Requirement already satisfied: charset-normalizer<4.0,>=2.0 in /Users/0xnrous/opt/anaconda3/lib/python3.9/site-packages (from aiohttp<4.0.0,>=3.8.3->langchain[llms]) (3.3.2)\n",
      "Requirement already satisfied: multidict<7.0,>=4.5 in /Users/0xnrous/opt/anaconda3/lib/python3.9/site-packages (from aiohttp<4.0.0,>=3.8.3->langchain[llms]) (6.0.4)\n",
      "Requirement already satisfied: yarl<2.0,>=1.0 in /Users/0xnrous/opt/anaconda3/lib/python3.9/site-packages (from aiohttp<4.0.0,>=3.8.3->langchain[llms]) (1.9.2)\n",
      "Requirement already satisfied: frozenlist>=1.1.1 in /Users/0xnrous/opt/anaconda3/lib/python3.9/site-packages (from aiohttp<4.0.0,>=3.8.3->langchain[llms]) (1.4.0)\n",
      "Requirement already satisfied: aiosignal>=1.1.2 in /Users/0xnrous/opt/anaconda3/lib/python3.9/site-packages (from aiohttp<4.0.0,>=3.8.3->langchain[llms]) (1.3.1)\n",
      "Requirement already satisfied: httpx in /Users/0xnrous/opt/anaconda3/lib/python3.9/site-packages (from anthropic<0.3.0,>=0.2.6->langchain[llms]) (0.27.2)\n",
      "Requirement already satisfied: urllib3~=1.26 in /Users/0xnrous/opt/anaconda3/lib/python3.9/site-packages (from cohere<4,>=3->langchain[llms]) (1.26.20)\n",
      "Requirement already satisfied: marshmallow<4.0.0,>=3.3.0 in /Users/0xnrous/opt/anaconda3/lib/python3.9/site-packages (from dataclasses-json<0.6.0,>=0.5.7->langchain[llms]) (3.19.0)\n",
      "Requirement already satisfied: marshmallow-enum<2.0.0,>=1.5.1 in /Users/0xnrous/opt/anaconda3/lib/python3.9/site-packages (from dataclasses-json<0.6.0,>=0.5.7->langchain[llms]) (1.5.1)\n",
      "Requirement already satisfied: typing-inspect>=0.4.0 in /Users/0xnrous/opt/anaconda3/lib/python3.9/site-packages (from dataclasses-json<0.6.0,>=0.5.7->langchain[llms]) (0.9.0)\n",
      "Requirement already satisfied: dill>=0.3.5 in /Users/0xnrous/opt/anaconda3/lib/python3.9/site-packages (from manifest-ml<0.0.2,>=0.0.1->langchain[llms]) (0.3.6)\n",
      "Requirement already satisfied: redis>=4.3.1 in /Users/0xnrous/opt/anaconda3/lib/python3.9/site-packages (from manifest-ml<0.0.2,>=0.0.1->langchain[llms]) (5.0.4)\n",
      "Requirement already satisfied: sqlitedict>=2.0.0 in /Users/0xnrous/opt/anaconda3/lib/python3.9/site-packages (from manifest-ml<0.0.2,>=0.0.1->langchain[llms]) (2.1.0)\n",
      "Requirement already satisfied: idna<4,>=2.5 in /Users/0xnrous/opt/anaconda3/lib/python3.9/site-packages (from requests<3,>=2->langchain[llms]) (3.10)\n",
      "Requirement already satisfied: certifi>=2017.4.17 in /Users/0xnrous/opt/anaconda3/lib/python3.9/site-packages (from requests<3,>=2->langchain[llms]) (2024.8.30)\n",
      "Requirement already satisfied: greenlet!=0.4.17 in /Users/0xnrous/opt/anaconda3/lib/python3.9/site-packages (from SQLAlchemy<3,>1.4->langchain[llms]) (3.1.1)\n",
      "Requirement already satisfied: sympy in /Users/0xnrous/opt/anaconda3/lib/python3.9/site-packages (from torch<3,>=1->langchain[llms]) (1.11.1)\n",
      "Requirement already satisfied: networkx in /Users/0xnrous/opt/anaconda3/lib/python3.9/site-packages (from torch<3,>=1->langchain[llms]) (3.2.1)\n",
      "Requirement already satisfied: jinja2 in /Users/0xnrous/opt/anaconda3/lib/python3.9/site-packages (from torch<3,>=1->langchain[llms]) (3.1.2)\n",
      "Requirement already satisfied: mypy-extensions>=0.3.0 in /Users/0xnrous/opt/anaconda3/lib/python3.9/site-packages (from typing-inspect>=0.4.0->dataclasses-json<0.6.0,>=0.5.7->langchain[llms]) (0.4.3)\n",
      "Requirement already satisfied: anyio in /Users/0xnrous/opt/anaconda3/lib/python3.9/site-packages (from httpx->anthropic<0.3.0,>=0.2.6->langchain[llms]) (3.5.0)\n",
      "Requirement already satisfied: httpcore==1.* in /Users/0xnrous/opt/anaconda3/lib/python3.9/site-packages (from httpx->anthropic<0.3.0,>=0.2.6->langchain[llms]) (1.0.7)\n",
      "Requirement already satisfied: sniffio in /Users/0xnrous/opt/anaconda3/lib/python3.9/site-packages (from httpx->anthropic<0.3.0,>=0.2.6->langchain[llms]) (1.2.0)\n",
      "Requirement already satisfied: h11<0.15,>=0.13 in /Users/0xnrous/opt/anaconda3/lib/python3.9/site-packages (from httpcore==1.*->httpx->anthropic<0.3.0,>=0.2.6->langchain[llms]) (0.14.0)\n",
      "Requirement already satisfied: MarkupSafe>=2.0 in /Users/0xnrous/opt/anaconda3/lib/python3.9/site-packages (from jinja2->torch<3,>=1->langchain[llms]) (2.1.1)\n",
      "Requirement already satisfied: mpmath>=0.19 in /Users/0xnrous/opt/anaconda3/lib/python3.9/site-packages (from sympy->torch<3,>=1->langchain[llms]) (1.2.1)\n",
      "\n",
      "\u001b[1m[\u001b[0m\u001b[34;49mnotice\u001b[0m\u001b[1;39;49m]\u001b[0m\u001b[39;49m A new release of pip is available: \u001b[0m\u001b[31;49m24.0\u001b[0m\u001b[39;49m -> \u001b[0m\u001b[32;49m24.3.1\u001b[0m\n",
      "\u001b[1m[\u001b[0m\u001b[34;49mnotice\u001b[0m\u001b[1;39;49m]\u001b[0m\u001b[39;49m To update, run: \u001b[0m\u001b[32;49mpip install --upgrade pip\u001b[0m\n"
     ]
    }
   ],
   "source": [
    "!pip install 'langchain[llms]' huggingface-hub langchain transformers"
   ]
  },
  {
   "cell_type": "code",
   "execution_count": 2,
   "metadata": {},
   "outputs": [],
   "source": [
    "import os \n",
    "from huggingface_hub import hf_hub_download"
   ]
  },
  {
   "cell_type": "code",
   "execution_count": null,
   "metadata": {},
   "outputs": [],
   "source": [
    "HUGGING_FACE_API_TOKEN = os.getenv(\"HUGGING_FACE_API_KEY\")"
   ]
  },
  {
   "cell_type": "code",
   "execution_count": 4,
   "metadata": {},
   "outputs": [],
   "source": [
    "# download model from huggingface\n",
    "model_name = 'lmsys/fastchat-t5-3b-v1.0' \n",
    "filenames = [ \n",
    "    \"pytorch_model.bin\", \"added_tokens.json\", \"config.json\", \"generation_config.json\",\n",
    "    \"special_tokens_map.json\", \"spiece.model\", \"tokenizer_config.json\"\n",
    "]"
   ]
  },
  {
   "cell_type": "code",
   "execution_count": 5,
   "metadata": {},
   "outputs": [
    {
     "name": "stdout",
     "output_type": "stream",
     "text": [
      "/Users/0xnrous/.cache/huggingface/hub/models--lmsys--fastchat-t5-3b-v1.0/snapshots/0b1da230a891854102d749b93f7ddf1f18a81024/pytorch_model.bin\n",
      "/Users/0xnrous/.cache/huggingface/hub/models--lmsys--fastchat-t5-3b-v1.0/snapshots/0b1da230a891854102d749b93f7ddf1f18a81024/added_tokens.json\n",
      "/Users/0xnrous/.cache/huggingface/hub/models--lmsys--fastchat-t5-3b-v1.0/snapshots/0b1da230a891854102d749b93f7ddf1f18a81024/config.json\n",
      "/Users/0xnrous/.cache/huggingface/hub/models--lmsys--fastchat-t5-3b-v1.0/snapshots/0b1da230a891854102d749b93f7ddf1f18a81024/generation_config.json\n",
      "/Users/0xnrous/.cache/huggingface/hub/models--lmsys--fastchat-t5-3b-v1.0/snapshots/0b1da230a891854102d749b93f7ddf1f18a81024/special_tokens_map.json\n",
      "/Users/0xnrous/.cache/huggingface/hub/models--lmsys--fastchat-t5-3b-v1.0/snapshots/0b1da230a891854102d749b93f7ddf1f18a81024/spiece.model\n",
      "/Users/0xnrous/.cache/huggingface/hub/models--lmsys--fastchat-t5-3b-v1.0/snapshots/0b1da230a891854102d749b93f7ddf1f18a81024/tokenizer_config.json\n",
      "/Users/0xnrous/.cache/huggingface/hub/models--lmsys--fastchat-t5-3b-v1.0/snapshots/0b1da230a891854102d749b93f7ddf1f18a81024/tokenizer_config.json\n"
     ]
    }
   ],
   "source": [
    "for filename in filenames:\n",
    "    dowloaded_model_path = hf_hub_download(\n",
    "        repo_id = model_name,\n",
    "        filename=filename,\n",
    "        use_auth_token=HUGGING_FACE_API_KEY\n",
    "    )\n",
    "    print(dowloaded_model_path)\n",
    "    \n",
    "print(dowloaded_model_path)    "
   ]
  },
  {
   "cell_type": "code",
   "execution_count": null,
   "metadata": {},
   "outputs": [],
   "source": [
    "from transformers import AutoTokenizer, AutoModelForCausalLM, pipeline, AutoModelForSeq2SeqLM\n",
    "\n",
    "\n",
    "tokenizer = AutoTokenizer.from_pretrained(model_name, legacy = False)\n",
    "model = AutoModelForSeq2SeqLM.from_pretrained(model_name)\n",
    "\n",
    "pipeline = pipeline(\"text2text-generation\", model=model, tokenizer=tokenizer, device=1 , max_length=1000)"
   ]
  },
  {
   "cell_type": "code",
   "execution_count": null,
   "metadata": {},
   "outputs": [],
   "source": [
    "pipeline(\"What is the capital of Egypt?\")"
   ]
  },
  {
   "cell_type": "markdown",
   "metadata": {},
   "source": [
    "--------"
   ]
  },
  {
   "cell_type": "code",
   "execution_count": null,
   "metadata": {},
   "outputs": [],
   "source": [
    "from langchain.llms import HuggingFacePipeline\n",
    "from langchain import PromptTemplate, LLMChain"
   ]
  },
  {
   "cell_type": "code",
   "execution_count": null,
   "metadata": {},
   "outputs": [],
   "source": [
    "# use model locally with LangChain to create repeatable structure around the prompt template\n",
    "llm = HuggingFacePipeline.from_model_id(\n",
    "    model_id=model_name,\n",
    "    task=\"text2text-generation\",\n",
    "    model_kwargs={\"temperature\": \"0\",\"max_length\" : 1000},\n",
    "    use_auth_token=HUGGING_FACE_API_TOKEN\n",
    ")"
   ]
  },
  {
   "cell_type": "code",
   "execution_count": null,
   "metadata": {},
   "outputs": [],
   "source": [
    "template = \"\"\"\n",
    "You are a friendly chatbot assistant that response conversationally to users' question. \n",
    "Keep the answer short, unless specifically asked by the user to elaborate on something. \n",
    "\n",
    "Question: {question}\n",
    "\n",
    "Answer:\"\"\"\n",
    "\n",
    "Prompt = PromptTemplate(Template = template, input_variables=[\"question\"])\n",
    "llm_chain = LLMChain(prompt=Prompt, llm=llm)"
   ]
  },
  {
   "cell_type": "code",
   "execution_count": null,
   "metadata": {},
   "outputs": [],
   "source": [
    "# create conversation function that ask questions and prints the response \n",
    "def ask(question):\n",
    "    response = llm_chain(question)\n",
    "    print(response['question'])\n",
    "    print(\"\")\n",
    "    print(response['text'])"
   ]
  },
  {
   "cell_type": "code",
   "execution_count": null,
   "metadata": {},
   "outputs": [],
   "source": [
    "# create timer context manager to make sure the conversation doesn't run for too long\n",
    "import time \n",
    "\n",
    "\n",
    "class TimerError(Exception):\n",
    "    \"\"\"A custom exception used to report errors in use of Timer class\"\"\"\n",
    "\n",
    "class Timer:\n",
    "    def __init__(self, seconds):\n",
    "        self.seconds = seconds\n",
    "\n",
    "    def __enter__(self):\n",
    "        self.start = time.perf_counter()\n",
    "        return self\n",
    "\n",
    "    def __exit__(self, *args):\n",
    "        self.end = time.perf_counter()\n",
    "        self.interval = self.end - self.start\n",
    "        if self.interval > self.seconds:\n",
    "            raise TimerError(f\"Timer for {self.seconds} seconds exceeded\")\n",
    "        print(f\"Timer: {self.interval} seconds\")"
   ]
  },
  {
   "cell_type": "code",
   "execution_count": null,
   "metadata": {},
   "outputs": [],
   "source": [
    "with Timer():\n",
    "    ask(\"What is the capital of Egypt?\")"
   ]
  },
  {
   "cell_type": "code",
   "execution_count": null,
   "metadata": {},
   "outputs": [],
   "source": [
    "with Timer():\n",
    "    ask(\"Describe some famous landmarks in Egypt?\")"
   ]
  },
  {
   "cell_type": "markdown",
   "metadata": {},
   "source": [
    "### Check model running while disable wifi connectivity"
   ]
  },
  {
   "cell_type": "code",
   "execution_count": null,
   "metadata": {},
   "outputs": [],
   "source": [
    "from utils import check_connectivity, toggle_wifi \n",
    "\n",
    "print(check_connectivity())\n",
    "toggle_wifi(\"off\")\n",
    "time.sleep(0.7)\n",
    "print(check_connectivity())"
   ]
  }
 ],
 "metadata": {
  "kernelspec": {
   "display_name": "base",
   "language": "python",
   "name": "python3"
  },
  "language_info": {
   "codemirror_mode": {
    "name": "ipython",
    "version": 3
   },
   "file_extension": ".py",
   "mimetype": "text/x-python",
   "name": "python",
   "nbconvert_exporter": "python",
   "pygments_lexer": "ipython3",
   "version": "3.9.13"
  }
 },
 "nbformat": 4,
 "nbformat_minor": 2
}
